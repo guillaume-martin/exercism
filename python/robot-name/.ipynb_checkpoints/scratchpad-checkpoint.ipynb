{
 "cells": [
  {
   "cell_type": "code",
   "execution_count": 1,
   "metadata": {
    "collapsed": true
   },
   "outputs": [],
   "source": [
    "from string import ascii_uppercase\n",
    "import random"
   ]
  },
  {
   "cell_type": "code",
   "execution_count": 35,
   "metadata": {
    "collapsed": true
   },
   "outputs": [],
   "source": [
    "def get_name():\n",
    "    name = ''\n",
    "    for i in range(5):\n",
    "        if i < 2:\n",
    "            name += _random_letter()\n",
    "        else:\n",
    "            name += str(_random_number())\n",
    "        i += 1\n",
    "\n",
    "    return name\n",
    "\n",
    "def random_letter():\n",
    "    return random.choice(ascii_uppercase)\n",
    "\n",
    "def random_number():\n",
    "    return random.randint(0,9)"
   ]
  },
  {
   "cell_type": "code",
   "execution_count": 36,
   "metadata": {
    "collapsed": true
   },
   "outputs": [],
   "source": [
    "class Robot(object):\n",
    "    names = set()\n",
    "    def __init__(self):\n",
    "        self.name = get_name()\n",
    "        Robot.names.add(self.name)\n"
   ]
  },
  {
   "cell_type": "code",
   "execution_count": 37,
   "metadata": {},
   "outputs": [
    {
     "name": "stdout",
     "output_type": "stream",
     "text": [
      "KK509\n"
     ]
    }
   ],
   "source": [
    "r = Robot()\n",
    "print(r.name)"
   ]
  },
  {
   "cell_type": "code",
   "execution_count": 38,
   "metadata": {
    "scrolled": false
   },
   "outputs": [
    {
     "name": "stdout",
     "output_type": "stream",
     "text": [
      "IS452\n",
      "QX311\n",
      "NY852\n",
      "BA553\n",
      "PA772\n",
      "EX339\n",
      "CN028\n",
      "NT476\n",
      "AX605\n",
      "DL568\n",
      "KE897\n",
      "YQ059\n",
      "AN029\n",
      "EZ063\n",
      "FB613\n",
      "OQ425\n",
      "PY189\n",
      "RT537\n",
      "VE234\n",
      "HC670\n",
      "CV471\n",
      "PG997\n",
      "UG099\n",
      "CR596\n",
      "IE484\n",
      "XQ224\n",
      "NS021\n",
      "EH203\n",
      "EQ388\n",
      "ZO546\n",
      "NP035\n",
      "CD758\n",
      "FR157\n",
      "EY780\n",
      "GV699\n",
      "HW222\n",
      "UD745\n",
      "QS127\n",
      "FG559\n",
      "AU351\n",
      "RI537\n",
      "ST630\n",
      "MX941\n",
      "VV229\n",
      "LM298\n",
      "DJ116\n",
      "DA102\n",
      "CQ777\n",
      "ME330\n",
      "UQ249\n",
      "IN022\n",
      "ZY619\n",
      "WT825\n",
      "BB358\n",
      "WL499\n",
      "QM123\n",
      "ZT530\n",
      "FX824\n",
      "GC921\n",
      "LQ565\n",
      "UE767\n",
      "OR035\n",
      "GK471\n",
      "VI072\n",
      "FA882\n",
      "EG827\n",
      "AP746\n",
      "LG551\n",
      "SP023\n",
      "QJ756\n",
      "IV109\n",
      "TI255\n",
      "BG680\n",
      "XZ304\n",
      "IU707\n",
      "IJ822\n",
      "NC381\n",
      "WI916\n",
      "WH443\n",
      "WZ543\n",
      "OU348\n",
      "QL393\n",
      "PH300\n",
      "RY978\n",
      "QU893\n",
      "RU105\n",
      "YP941\n",
      "YC323\n",
      "WZ030\n",
      "RP311\n",
      "OT458\n",
      "VJ803\n",
      "NE208\n",
      "NL889\n",
      "BV578\n",
      "UW672\n",
      "AW244\n",
      "HT951\n",
      "MT176\n",
      "MM998\n"
     ]
    }
   ],
   "source": [
    "for i in range(100):\n",
    "    r = Robot()\n",
    "    print(r.name)"
   ]
  },
  {
   "cell_type": "code",
   "execution_count": null,
   "metadata": {
    "collapsed": true
   },
   "outputs": [],
   "source": []
  }
 ],
 "metadata": {
  "kernelspec": {
   "display_name": "Python 3",
   "language": "python",
   "name": "python3"
  },
  "language_info": {
   "codemirror_mode": {
    "name": "ipython",
    "version": 3
   },
   "file_extension": ".py",
   "mimetype": "text/x-python",
   "name": "python",
   "nbconvert_exporter": "python",
   "pygments_lexer": "ipython3",
   "version": "3.6.8"
  }
 },
 "nbformat": 4,
 "nbformat_minor": 2
}
